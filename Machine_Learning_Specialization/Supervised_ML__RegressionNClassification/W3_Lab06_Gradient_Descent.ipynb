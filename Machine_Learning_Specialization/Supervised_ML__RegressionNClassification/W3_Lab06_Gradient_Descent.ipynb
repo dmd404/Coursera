{
 "cells": [
  {
   "attachments": {},
   "cell_type": "markdown",
   "metadata": {},
   "source": [
    "# Optional Lab: Gradient Descent for Logistic Regression"
   ]
  },
  {
   "attachments": {},
   "cell_type": "markdown",
   "metadata": {},
   "source": [
    "## Goals\n",
    "In this lab, you will:\n",
    "- update gradient descent for logistic regression.\n",
    "- explore gradient descent on a familiar data set"
   ]
  },
  {
   "cell_type": "code",
   "execution_count": 6,
   "metadata": {},
   "outputs": [
    {
     "ename": "TypeError",
     "evalue": "the 'package' argument is required to perform a relative import for './deeplearning'",
     "output_type": "error",
     "traceback": [
      "\u001b[0;31m---------------------------------------------------------------------------\u001b[0m",
      "\u001b[0;31mTypeError\u001b[0m                                 Traceback (most recent call last)",
      "Cell \u001b[0;32mIn[6], line 5\u001b[0m\n\u001b[1;32m      3\u001b[0m get_ipython()\u001b[39m.\u001b[39mrun_line_magic(\u001b[39m'\u001b[39m\u001b[39mmatplotlib\u001b[39m\u001b[39m'\u001b[39m, \u001b[39m'\u001b[39m\u001b[39mwidget\u001b[39m\u001b[39m'\u001b[39m)\n\u001b[1;32m      4\u001b[0m \u001b[39mimport\u001b[39;00m \u001b[39mmatplotlib\u001b[39;00m\u001b[39m.\u001b[39;00m\u001b[39mpyplot\u001b[39;00m \u001b[39mas\u001b[39;00m \u001b[39mplt\u001b[39;00m\n\u001b[0;32m----> 5\u001b[0m \u001b[39mfrom\u001b[39;00m \u001b[39mlab_utils_common\u001b[39;00m \u001b[39mimport\u001b[39;00m dlc, plot_data, plt_tumor_data, sigmoid, compute_cost_logistic\n\u001b[1;32m      6\u001b[0m \u001b[39mfrom\u001b[39;00m \u001b[39mplt_quad_logistic\u001b[39;00m \u001b[39mimport\u001b[39;00m plt_quad_logistic, plt_prob\n\u001b[1;32m      7\u001b[0m plt\u001b[39m.\u001b[39mstyle\u001b[39m.\u001b[39muse(\u001b[39m'\u001b[39m\u001b[39m./deeplearning.mplstyle\u001b[39m\u001b[39m'\u001b[39m)\n",
      "File \u001b[0;32m~/github_dmd/Coursera/Machine_Learning_Specialization/Supervised_ML__RegressionNClassification/lab_utils_common.py:21\u001b[0m\n\u001b[1;32m     19\u001b[0m dlblue \u001b[39m=\u001b[39m \u001b[39m'\u001b[39m\u001b[39m#0096ff\u001b[39m\u001b[39m'\u001b[39m; dlorange \u001b[39m=\u001b[39m \u001b[39m'\u001b[39m\u001b[39m#FF9300\u001b[39m\u001b[39m'\u001b[39m; dldarkred\u001b[39m=\u001b[39m\u001b[39m'\u001b[39m\u001b[39m#C00000\u001b[39m\u001b[39m'\u001b[39m; dlmagenta\u001b[39m=\u001b[39m\u001b[39m'\u001b[39m\u001b[39m#FF40FF\u001b[39m\u001b[39m'\u001b[39m; dlpurple\u001b[39m=\u001b[39m\u001b[39m'\u001b[39m\u001b[39m#7030A0\u001b[39m\u001b[39m'\u001b[39m\n\u001b[1;32m     20\u001b[0m dlcolors \u001b[39m=\u001b[39m [dlblue, dlorange, dldarkred, dlmagenta, dlpurple]\n\u001b[0;32m---> 21\u001b[0m plt\u001b[39m.\u001b[39;49mstyle\u001b[39m.\u001b[39;49muse(\u001b[39m'\u001b[39;49m\u001b[39m./deeplearning.mplstyle\u001b[39;49m\u001b[39m'\u001b[39;49m)\n\u001b[1;32m     23\u001b[0m \u001b[39mdef\u001b[39;00m \u001b[39msigmoid\u001b[39m(z):\n\u001b[1;32m     24\u001b[0m     \u001b[39m\"\"\"\u001b[39;00m\n\u001b[1;32m     25\u001b[0m \u001b[39m    Compute the sigmoid of z\u001b[39;00m\n\u001b[1;32m     26\u001b[0m \n\u001b[0;32m   (...)\u001b[0m\n\u001b[1;32m     35\u001b[0m \u001b[39m         sigmoid(z)\u001b[39;00m\n\u001b[1;32m     36\u001b[0m \u001b[39m    \"\"\"\u001b[39;00m\n",
      "File \u001b[0;32m~/opt/anaconda3/envs/kaggle/lib/python3.8/site-packages/matplotlib/style/core.py:153\u001b[0m, in \u001b[0;36muse\u001b[0;34m(style)\u001b[0m\n\u001b[1;32m    151\u001b[0m pkg, _, name \u001b[39m=\u001b[39m style\u001b[39m.\u001b[39mrpartition(\u001b[39m\"\u001b[39m\u001b[39m.\u001b[39m\u001b[39m\"\u001b[39m)\n\u001b[1;32m    152\u001b[0m \u001b[39mtry\u001b[39;00m:\n\u001b[0;32m--> 153\u001b[0m     path \u001b[39m=\u001b[39m (importlib_resources\u001b[39m.\u001b[39;49mfiles(pkg)\n\u001b[1;32m    154\u001b[0m             \u001b[39m/\u001b[39m \u001b[39mf\u001b[39m\u001b[39m\"\u001b[39m\u001b[39m{\u001b[39;00mname\u001b[39m}\u001b[39;00m\u001b[39m.\u001b[39m\u001b[39m{\u001b[39;00mSTYLE_EXTENSION\u001b[39m}\u001b[39;00m\u001b[39m\"\u001b[39m)\n\u001b[1;32m    155\u001b[0m     style \u001b[39m=\u001b[39m _rc_params_in_file(path)\n\u001b[1;32m    156\u001b[0m \u001b[39mexcept\u001b[39;00m (\u001b[39mModuleNotFoundError\u001b[39;00m, \u001b[39mIOError\u001b[39;00m) \u001b[39mas\u001b[39;00m exc:\n\u001b[1;32m    157\u001b[0m     \u001b[39m# There is an ambiguity whether a dotted name refers to a\u001b[39;00m\n\u001b[1;32m    158\u001b[0m     \u001b[39m# package.style_name or to a dotted file path.  Currently,\u001b[39;00m\n\u001b[0;32m   (...)\u001b[0m\n\u001b[1;32m    161\u001b[0m     \u001b[39m# either use Path objects or be prepended with \"./\" and use\u001b[39;00m\n\u001b[1;32m    162\u001b[0m     \u001b[39m# the slash as marker for file paths.\u001b[39;00m\n",
      "File \u001b[0;32m~/opt/anaconda3/envs/kaggle/lib/python3.8/site-packages/importlib_resources/_common.py:23\u001b[0m, in \u001b[0;36mfiles\u001b[0;34m(package)\u001b[0m\n\u001b[1;32m     18\u001b[0m \u001b[39mdef\u001b[39;00m \u001b[39mfiles\u001b[39m(package):\n\u001b[1;32m     19\u001b[0m     \u001b[39m# type: (Package) -> Traversable\u001b[39;00m\n\u001b[1;32m     20\u001b[0m     \u001b[39m\"\"\"\u001b[39;00m\n\u001b[1;32m     21\u001b[0m \u001b[39m    Get a Traversable resource from a package\u001b[39;00m\n\u001b[1;32m     22\u001b[0m \u001b[39m    \"\"\"\u001b[39;00m\n\u001b[0;32m---> 23\u001b[0m     \u001b[39mreturn\u001b[39;00m from_package(get_package(package))\n",
      "File \u001b[0;32m~/opt/anaconda3/envs/kaggle/lib/python3.8/site-packages/importlib_resources/_common.py:67\u001b[0m, in \u001b[0;36mget_package\u001b[0;34m(package)\u001b[0m\n\u001b[1;32m     61\u001b[0m \u001b[39mdef\u001b[39;00m \u001b[39mget_package\u001b[39m(package):\n\u001b[1;32m     62\u001b[0m     \u001b[39m# type: (Package) -> types.ModuleType\u001b[39;00m\n\u001b[1;32m     63\u001b[0m     \u001b[39m\"\"\"Take a package name or module object and return the module.\u001b[39;00m\n\u001b[1;32m     64\u001b[0m \n\u001b[1;32m     65\u001b[0m \u001b[39m    Raise an exception if the resolved module is not a package.\u001b[39;00m\n\u001b[1;32m     66\u001b[0m \u001b[39m    \"\"\"\u001b[39;00m\n\u001b[0;32m---> 67\u001b[0m     resolved \u001b[39m=\u001b[39m resolve(package)\n\u001b[1;32m     68\u001b[0m     \u001b[39mif\u001b[39;00m wrap_spec(resolved)\u001b[39m.\u001b[39msubmodule_search_locations \u001b[39mis\u001b[39;00m \u001b[39mNone\u001b[39;00m:\n\u001b[1;32m     69\u001b[0m         \u001b[39mraise\u001b[39;00m \u001b[39mTypeError\u001b[39;00m(\u001b[39mf\u001b[39m\u001b[39m'\u001b[39m\u001b[39m{\u001b[39;00mpackage\u001b[39m!r}\u001b[39;00m\u001b[39m is not a package\u001b[39m\u001b[39m'\u001b[39m)\n",
      "File \u001b[0;32m~/opt/anaconda3/envs/kaggle/lib/python3.8/site-packages/importlib_resources/_common.py:58\u001b[0m, in \u001b[0;36mresolve\u001b[0;34m(cand)\u001b[0m\n\u001b[1;32m     56\u001b[0m \u001b[39mdef\u001b[39;00m \u001b[39mresolve\u001b[39m(cand):\n\u001b[1;32m     57\u001b[0m     \u001b[39m# type: (Package) -> types.ModuleType\u001b[39;00m\n\u001b[0;32m---> 58\u001b[0m     \u001b[39mreturn\u001b[39;00m cand \u001b[39mif\u001b[39;00m \u001b[39misinstance\u001b[39m(cand, types\u001b[39m.\u001b[39mModuleType) \u001b[39melse\u001b[39;00m importlib\u001b[39m.\u001b[39;49mimport_module(cand)\n",
      "File \u001b[0;32m~/opt/anaconda3/envs/kaggle/lib/python3.8/importlib/__init__.py:122\u001b[0m, in \u001b[0;36mimport_module\u001b[0;34m(name, package)\u001b[0m\n\u001b[1;32m    119\u001b[0m \u001b[39mif\u001b[39;00m \u001b[39mnot\u001b[39;00m package:\n\u001b[1;32m    120\u001b[0m     msg \u001b[39m=\u001b[39m (\u001b[39m\"\u001b[39m\u001b[39mthe \u001b[39m\u001b[39m'\u001b[39m\u001b[39mpackage\u001b[39m\u001b[39m'\u001b[39m\u001b[39m argument is required to perform a relative \u001b[39m\u001b[39m\"\u001b[39m\n\u001b[1;32m    121\u001b[0m            \u001b[39m\"\u001b[39m\u001b[39mimport for \u001b[39m\u001b[39m{!r}\u001b[39;00m\u001b[39m\"\u001b[39m)\n\u001b[0;32m--> 122\u001b[0m     \u001b[39mraise\u001b[39;00m \u001b[39mTypeError\u001b[39;00m(msg\u001b[39m.\u001b[39mformat(name))\n\u001b[1;32m    123\u001b[0m \u001b[39mfor\u001b[39;00m character \u001b[39min\u001b[39;00m name:\n\u001b[1;32m    124\u001b[0m     \u001b[39mif\u001b[39;00m character \u001b[39m!=\u001b[39m \u001b[39m'\u001b[39m\u001b[39m.\u001b[39m\u001b[39m'\u001b[39m:\n",
      "\u001b[0;31mTypeError\u001b[0m: the 'package' argument is required to perform a relative import for './deeplearning'"
     ]
    }
   ],
   "source": [
    "import copy, math\n",
    "import numpy as np\n",
    "%matplotlib widget\n",
    "import matplotlib.pyplot as plt\n",
    "from lab_utils_common import dlc, plot_data, plt_tumor_data, sigmoid, compute_cost_logistic\n",
    "from plt_quad_logistic import plt_quad_logistic, plt_prob\n",
    "plt.style.use('./deeplearning.mplstyle')"
   ]
  },
  {
   "cell_type": "code",
   "execution_count": null,
   "metadata": {},
   "outputs": [],
   "source": []
  }
 ],
 "metadata": {
  "kernelspec": {
   "display_name": "kaggle",
   "language": "python",
   "name": "python3"
  },
  "language_info": {
   "codemirror_mode": {
    "name": "ipython",
    "version": 3
   },
   "file_extension": ".py",
   "mimetype": "text/x-python",
   "name": "python",
   "nbconvert_exporter": "python",
   "pygments_lexer": "ipython3",
   "version": "3.8.16"
  },
  "orig_nbformat": 4,
  "vscode": {
   "interpreter": {
    "hash": "ff93d71eda54a5ae51ca4f815f2dffd4685391e9556e62594f220825b0a4aa17"
   }
  }
 },
 "nbformat": 4,
 "nbformat_minor": 2
}
